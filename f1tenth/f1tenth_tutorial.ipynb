{
 "cells": [
  {
   "cell_type": "markdown",
   "metadata": {},
   "source": [
    "## Tutorial Summary:\n",
    "- F1/10 Gazebo racing simulator\n",
    "- Perception - LIDAR, and Camera - in *rviz*\n",
    "- Simple Navigation - Wall following and PID steering and velocity control\n",
    "- Simultaneous Localization and Mapping (SLAM) using Hector SLAM\n",
    "- Building and saving maps with LIDAR scan data\n",
    "- Localization using the Adaptive Monte Carlo (AMCL) method\n",
    "- Path planning and waypoint navigation using Time-Elastic Band (TEB) local planner.\n",
    "\n",
    "\n",
    "## F1/10 Hardware Testbed Summary\n",
    "### Note: Hardware testbed is not required for this tutorial\n",
    "\n",
    "The F1/10 platform is designed to meet the following requirements:\n",
    "\n",
    "1. The platform must be able to capture the  dynamics  of  a  full  scaled  autonomous car;  \n",
    "2.  The platform's hardware and software stack must be modular so as to enable easy upgrades, maintenance and repairs and\n",
    "3. The platform must be self-sustaining in terms of power, computation and sensors, i.e., it need not use any external localization\n",
    "\n",
    "The testbed contains the following hardware:\n",
    "\n",
    "* 1/10 scale rally racecar chassis with Ackerman steering from Traxxas\n",
    "* Hokuyo 10LX LIDAR rangefinder\n",
    "* Nvidia Jetson TX2 module\n",
    "* Orbitty carrier for TX2\n",
    "* ZED depth camera\n",
    "* Vedder Electronic Speed Controller (VESC)\n",
    "* MPU-9050inertial measurement unit (IMU)\n",
    "* Ubiquiti Wifi Pico station access point\n",
    "\n",
    "Detailed instructions on how to assemble the testbed are available on our [website](f1tenth.org)\n",
    "\n",
    "## Installation Steps\n",
    "\n",
    "There are 2 ways to install the files needed for this tutorial.\n",
    "\n",
    "1. Use the `f1tenth` docker image. [Jump to instructions](https://github.com/linklab-uva/f1tenth_gtc_tutorial#using-the-f1tenth-docker-image)\n",
    "2. Use a Ubuntu 16.04 (Xenial) or 18.04 (Bionic) with the correct version of ROS. [Jump to instructions](https://github.com/linklab-uva/f1tenth_gtc_tutorial#installing-and-building-from-source-on-ubuntu)\n",
    "\n",
    "### Using the `f1tenth` docker image:\n",
    "\n",
    "The easist and fasted way to get started with the tutorials is to install docker and spin a container from the `f1tenth` docker image.\n",
    "\n",
    "For this you will need to install Docker on your computer. If you have used Docker before this step should be straight forward, otherwise check [this link](https://www.docker.com/what-docker) for more information about it.\n",
    "\n",
    "  - Installation's instructions for Ubuntu can be found [[HERE]](https://docs.docker.com/engine/installation/linux/ubuntu/)\n",
    "  - Installation's instructions for Windows can be found [[HERE]](https://docs.docker.com/docker-for-windows/install/)\n",
    "  - Installation's instructions for MacOS can be found [[HERE]](https://docs.docker.com/docker-for-mac/install/)\n",
    "\n",
    "After you have Docker installed, running the container should be as easy as typing:"
   ]
  },
  {
   "cell_type": "code",
   "execution_count": null,
   "metadata": {},
   "outputs": [],
   "source": [
    "docker run -it --rm -p 6080:80 madhurbehl/f1tenth"
   ]
  },
  {
   "cell_type": "markdown",
   "metadata": {},
   "source": [
    "Then simply browse http://127.0.0.1:6080/ </br>\n",
    "Then follow the tutorials in the [Getting Started](https://github.com/linklab-uva/f1tenth_gtc_tutorial#getting-started-with-f110-tutorials) section below. </br>\n",
    "There are a few other things you can customize when you launch.\n",
    "For more details visit [DockerHub madhurbehl/f1tenth](https://hub.docker.com/r/madhurbehl/f1tenth)\n",
    "\n",
    "### Installing and building from source on Ubuntu:  \n",
    "\n",
    "The instructions below are for Ubuntu 18.04 LTS Bionic and ROS Melodic Morenia.\n",
    "If using a different Linux/ROS setup please use the corresponding ROS version instead of the melodic commands below.\n",
    "\n",
    "### 1. Install Robot Operating System (ROS)\n",
    "If your computer dos not have ROS already installed, you can do so by following the instructions [here](http://wiki.ros.org/melodic/Installation/Ubuntu). Choose the 'desktop-full' install option as we will use the navigation libraries and visualization tools.\n",
    "\n",
    "### 2. Create a ROS workspace\n",
    "\n",
    "You have to create a local directory to contain the F1/10 and its dependent packages and permanently source them.\n",
    "To do this, open a new terminal window and do the following:"
   ]
  },
  {
   "cell_type": "code",
   "execution_count": null,
   "metadata": {
    "attributes": {
     "classes": [
      "console"
     ],
     "id": ""
    }
   },
   "outputs": [],
   "source": [
    "user@computer:$ mkdir -p catkin_ws/src/\n",
    "user@computer:$ cd catkin_ws/src/\n",
    "user@computer:$ catkin_init_workspace\n",
    "user@computer:$ cd ~/catkin_ws\n",
    "user@computer:$ catkin_make\n",
    "user@computer:$ echo \"source ~/catkin_ws/devel/setup.bash\" >> ~/.bashrc"
   ]
  },
  {
   "cell_type": "markdown",
   "metadata": {},
   "source": [
    "### 3. Install the F1/10 package and its dependencies\n",
    "\n",
    "1. Install the navigation libraries using apt-get\n",
    "You have to install certain navigation libraries and some additional packages to support the simulator. You can do this by opening a new terminal and typing:"
   ]
  },
  {
   "cell_type": "code",
   "execution_count": null,
   "metadata": {
    "attributes": {
     "classes": [
      "console"
     ],
     "id": ""
    }
   },
   "outputs": [],
   "source": [
    "user@computer:$ sudo apt-get -y install ros-melodic-ros-control\n",
    "user@computer:$ sudo apt-get -y install ros-melodic-gazebo-ros-control\n",
    "user@computer:$ sudo apt-get -y install ros-melodic-ros-controllers\n",
    "user@computer:$ sudo apt-get -y install ros-melodic-navigation qt4-default\n",
    "user@computer:$ sudo apt-get -y install ros-melodic-ackermann-msgs\n",
    "user@computer:$ sudo apt-get -y install ros-melodic-serial\n",
    "user@computer:$ sudo apt-get -y install ros-melodic-teb-local-planner*"
   ]
  },
  {
   "cell_type": "markdown",
   "metadata": {},
   "source": [
    "The * trailing the command install the packages using the same name that are some times dependent on the master package.\n",
    "\n",
    "2. Install the mapping and core package using catkin_make\n",
    "With all the dependencies installed, you can now install the F1/10 core package (with the simulator) and the rest of the packages necessary to run the nodes locally. To do so, open a new terminal and execute:"
   ]
  },
  {
   "cell_type": "code",
   "execution_count": null,
   "metadata": {
    "attributes": {
     "classes": [
      "console"
     ],
     "id": ""
    }
   },
   "outputs": [],
   "source": [
    "user@computer:$ git clone https://github.com/linklab-uva/f1tenth_gtc_tutorial\n",
    "user@computer:$ ln -s ~/f1tenth_gtc_tutorial/src/ ~/catkin_ws/src/\n",
    "user@computer:$ cd ~/catkin_ws\n",
    "user@computer:$ catkin_make install"
   ]
  },
  {
   "cell_type": "markdown",
   "metadata": {},
   "source": [
    "## Getting Started with F1/10 Tutorials\n",
    "\n",
    "The F1/10 package provides a F1/10 Gazebo Simulator which complements the hardware by emulating its modular properties. The repository has been setup to help the user get started with the simulator out-of-the box. This section provides a quick dive into the three main sections of the tutorial;\n",
    "\n",
    "The simulation sub-package contains one-line commands that perform these tasks parallelly, but we recommend that first-time users understand the processes before using these commands. If you are already experienced in ROS, the launch files are present under '/simulator/launch' directory.\n",
    "\n",
    "### Getting familiar with the F1/10 Gazebo simulator\n",
    "\n",
    "![](assets/loop/teleop.gif)\n",
    "\n",
    "The F1/10 Gazebo simulator contains features like the a world map, and Gazebo plugins that provide better odometry and control. This setup utilizes the MIT-Racecar gazebo simulation baseline implementation.\n",
    "To bring up the F1/10 Gazebo simulator using the following command"
   ]
  },
  {
   "cell_type": "code",
   "execution_count": null,
   "metadata": {
    "attributes": {
     "classes": [
      "console"
     ],
     "id": ""
    }
   },
   "outputs": [],
   "source": [
    "user@computer:$ roslaunch racecar_gazebo racecar.launch"
   ]
  },
  {
   "cell_type": "markdown",
   "metadata": {},
   "source": [
    "You should now see the default F1/10 world loaded into Gazebo and see the red F1/10 simulated car with the blue LIDAR rangefinder visualized.\n",
    "\n",
    "#### Keyboard control [Tele-operation]\n",
    "\n",
    "The F1/10 console package provides you with the option of using either keyboard control or joystick control. The package is built around the Logitech F710 game controller or the standard English(US) keyboard. IF you do not have the F710, you can use any other controller supported by the ROS joy-node and change the axis-mapping or just use the keyboard control by using the following command:"
   ]
  },
  {
   "cell_type": "code",
   "execution_count": null,
   "metadata": {
    "attributes": {
     "classes": [
      "console"
     ],
     "id": ""
    }
   },
   "outputs": [],
   "source": [
    "user@computer:$ roslaunch console keyboard_teleop.launch"
   ]
  },
  {
   "cell_type": "markdown",
   "metadata": {},
   "source": [
    "Keyboard control in this package follows the WASD pattern:\n",
    "W: Move forward\n",
    "S: Move reverse\n",
    "A: Turn left\n",
    "D: Turn right\n",
    "\n",
    "NOTE: When using *keyboard_teleop*, always keep the terminal from which the teleop node was initialized as the active terminal window over other screens, otherwise the keyboard data will not be sent to the car.\n",
    "You should now be able to see the car respond to manual control commands - steering, and accelration.\n",
    "\n",
    "### Tutorial 1: Basic navigation principles (wall following)\n",
    "\n",
    "![](assets/loop/simple_run.gif)\n",
    "\n",
    "The purpose of this demonstration is to show the basic perception, planning, and control capabilities of the F1/10 Gazebo platform.  \n",
    "Our goal is to go from manual control to autonomous control on the F1/10 racecar.\n",
    "To do this, we will implement a wall following algorithm. The algorithm will try to track either the inner or the outer walls of the world, and maintains a fixed distance from them using the LIDAR rangefinder sensor and using Proportional, Integral, and Derivative (PID) control.\n",
    "\n",
    "First, bring up the simulator using the following command. This command launches the simulator and spawns the F1/10 racecar closer to the inner wall for better performance of the wall-following algorithm."
   ]
  },
  {
   "cell_type": "code",
   "execution_count": null,
   "metadata": {
    "attributes": {
     "classes": [
      "console"
     ],
     "id": ""
    }
   },
   "outputs": [],
   "source": [
    "user@computer:$ roslaunch racecar_gazebo racecar_simplerun.launch"
   ]
  },
  {
   "cell_type": "markdown",
   "metadata": {},
   "source": [
    "Next, Bring up the wall-following ROS nodes using the following command.\n",
    "You should notice the F1/10 racecar moving immediately."
   ]
  },
  {
   "cell_type": "code",
   "execution_count": null,
   "metadata": {
    "attributes": {
     "classes": [
      "console"
     ],
     "id": ""
    }
   },
   "outputs": [],
   "source": [
    "user@computer:$ roslaunch simulator simple_run.launch"
   ]
  },
  {
   "cell_type": "markdown",
   "metadata": {},
   "source": [
    "To adjust the distance from the wall, you can change the values in the '/src/f1tenth/virtual/simulator/nodes/simple_run/pid_error.py'\n",
    "For example, like so :"
   ]
  },
  {
   "cell_type": "code",
   "execution_count": null,
   "metadata": {},
   "outputs": [],
   "source": [
    "DESIRED_DISTANCE_RIGHT = 1.0 # distance from right wall in meters\n",
    "DESIRED_DISTANCE_LEFT  = 0.8 # distance from left wall in meters"
   ]
  },
  {
   "cell_type": "markdown",
   "metadata": {},
   "source": [
    "### Tutorial 2: Simultaneous Localization and Mapping [SLAM] using Hector Mapping\n",
    "\n",
    "![](assets/loop/mapping.gif)\n",
    "\n",
    "Note: It is important that you do not have multiple installations of hector_slam package. ROS will not build multiple packages with the same name, but sometimes it can overlook existing installations if your workspace is not sourced.\n",
    "\n",
    "Before we proceed to mapping, we have to make some changes to the hector_slam launch files to make it work with the F1/10 package. To do so, execute the following commands in a new terminal:"
   ]
  },
  {
   "cell_type": "code",
   "execution_count": null,
   "metadata": {
    "attributes": {
     "classes": [
      "console"
     ],
     "id": ""
    }
   },
   "outputs": [],
   "source": [
    "user@computer:$ roscd hector_mapping/launch/\n",
    "user@computer:$ gedit mapping_default.launch"
   ]
  },
  {
   "cell_type": "markdown",
   "metadata": {},
   "source": [
    "Make the following changes to the mapping_default.launch file:\n",
    "\n",
    "1. Change the name of *base_frame*"
   ]
  },
  {
   "cell_type": "code",
   "execution_count": null,
   "metadata": {
    "attributes": {
     "classes": [
      "xml"
     ],
     "id": ""
    }
   },
   "outputs": [],
   "source": [
    "ln 5: <arg name=\"base_frame\" default=\"base_footprint\"/>\n",
    "to\n",
    "ln 5: <arg name=\"base_frame\" default=\"base_link\"/>"
   ]
  },
  {
   "cell_type": "markdown",
   "metadata": {},
   "source": [
    "2. Change the value for *odom_frame*"
   ]
  },
  {
   "cell_type": "code",
   "execution_count": null,
   "metadata": {
    "attributes": {
     "classes": [
      "xml"
     ],
     "id": ""
    }
   },
   "outputs": [],
   "source": [
    "ln 17: <param name=\"odom_frame\" value=\"$(arg odom_frame)\"/>\n",
    "to\n",
    "ln 17: <param name=\"odom_frame\" value=\"$(arg base_frame)\"/>"
   ]
  },
  {
   "cell_type": "markdown",
   "metadata": {},
   "source": [
    "The *hector_mapping* package launches with some default parameters and the changes made by the steps above enable us to use this package with our platform.\n",
    "\n",
    "Once you have completed all the steps above, it is time to explore the simulated world and create a 2D map of the world. For this, you should first bring up the simulator with the default 'racecar.launch' file. Do the following:"
   ]
  },
  {
   "cell_type": "code",
   "execution_count": null,
   "metadata": {
    "attributes": {
     "classes": [
      "console"
     ],
     "id": ""
    }
   },
   "outputs": [],
   "source": [
    "user@computer:$ roslaunch racecar_gazebo racecar.launch"
   ]
  },
  {
   "cell_type": "markdown",
   "metadata": {},
   "source": [
    "Once the simulator GUI appears, check the console to verify that there are no errors. This is important because although the simulator would seem to be working properly, some of the nodes necessary to control the F1/10 racecar might have not launched. If the console output has no red lines, you are safe to proceed to the next step. Otherwise use Ctrl-C to kill the simulator and relaunch the entire package. The simulator has to shutdown clearly, otherwise the errors will propagate again.\n",
    "\n",
    "Now it is time to launch the *keyboard_teleop* ROS node (or *joystick_teleop*, if you have a compatible joystick). We will use this ROS node to manually drive the car around the environment so that the mapping nodes can collect LaserScan data and build the map. Open a new terminal (different from the one which you used to launch the simulator) and launch the teleop node using:"
   ]
  },
  {
   "cell_type": "code",
   "execution_count": null,
   "metadata": {
    "attributes": {
     "classes": [
      "console"
     ],
     "id": ""
    }
   },
   "outputs": [],
   "source": [
    "user@computer:$ roslaunch console keyboard_teleop.launch"
   ]
  },
  {
   "cell_type": "markdown",
   "metadata": {},
   "source": [
    "Next, launch the mapping nodes. We will use *hector_mapping* to accomplish this by running the following command in a new terminal. Read more about *hector_mapping* and the ROS Hector SLAM package [here](http://wiki.ros.org/hector_slam)."
   ]
  },
  {
   "cell_type": "code",
   "execution_count": null,
   "metadata": {
    "attributes": {
     "classes": [
      "console"
     ],
     "id": ""
    }
   },
   "outputs": [],
   "source": [
    "user@computer:$ roslaunch platform mapping.launch"
   ]
  },
  {
   "cell_type": "markdown",
   "metadata": {},
   "source": [
    "With the mapping node, simulator, and the teleop node running, it is time to visualize the data. For this we use the ROS inbuilt visualization tool called *rviz*. The F1/10 package contains an *rviz* configuration file that opens up the correct parameters to visualize mapping data. You can take advantage of this configuration file by running the following command:"
   ]
  },
  {
   "cell_type": "code",
   "execution_count": null,
   "metadata": {
    "attributes": {
     "classes": [
      "console"
     ],
     "id": ""
    }
   },
   "outputs": [],
   "source": [
    "user@computer:$ roslaunch console mapping.launch"
   ]
  },
  {
   "cell_type": "markdown",
   "metadata": {},
   "source": [
    "You should now see the initial 2D map built by the car from the current laser scan data in *rviz*. As you drive the car using the teleop terminal and the WASD keys, you should see the *rviz* map getting updated as more parts of the world come into the field of view of the LIDAR.\n",
    "\n",
    "Once you have driven around the environment, you should notice that a closed map is generated using the *rviz* visualization tool. It is not necessary to drive the entire loop manually as partial maps are also good enough for the next step. We now proceed to save the map generated using the following command:"
   ]
  },
  {
   "cell_type": "code",
   "execution_count": null,
   "metadata": {
    "attributes": {
     "classes": [
      "console"
     ],
     "id": ""
    }
   },
   "outputs": [],
   "source": [
    "user@computer:$ rosrun map_server map_saver -f <name_for_your_map>"
   ]
  },
  {
   "cell_type": "markdown",
   "metadata": {},
   "source": [
    "You should now see a map file in your home directory. You can save the map file using any name you choose, but you should keep track of what map you want to use for the next tutorial. The F1/10 package already contains a full standardized map of the environment and will use that map for navigation.\n",
    "\n",
    "### Tutorial 3: Advanced navigation using the TEB local planner\n",
    "\n",
    "![](assets/loop/navigation.gif)\n",
    "\n",
    "The F1/10 platform is based on a 1/10 scale RC car with [Ackermann steering](https://en.wikipedia.org/wiki/Ackermann_steering_geometry) and therefore requires a navigation system better suited for its dynamics. For this, we chose the official ROS package for [TEB local planner](http://wiki.ros.org/teb_local_planner). The follow demonstration shows how this navigation stack works.\n",
    "\n",
    "First, bring up the simulator using the following command in a new terminal."
   ]
  },
  {
   "cell_type": "code",
   "execution_count": null,
   "metadata": {
    "attributes": {
     "classes": [
      "console"
     ],
     "id": ""
    }
   },
   "outputs": [],
   "source": [
    "user@computer:$ roslaunch racecar_gazebo racecar.launch"
   ]
  },
  {
   "cell_type": "markdown",
   "metadata": {},
   "source": [
    "Next, launch the navigation stack. The following command must be entered in a new terminal and it launches several nodes including:"
   ]
  },
  {
   "cell_type": "code",
   "execution_count": null,
   "metadata": {
    "attributes": {
     "classes": [
      "console"
     ],
     "id": ""
    }
   },
   "outputs": [],
   "source": [
    "navigation\n",
    "    |\n",
    "    |-----> AMCL (Adaptive Monte Carlo Localization)\n",
    "    |\n",
    "    |-----> global planner based on global costmap\n",
    "    |\n",
    "    |-----> local planner based on local costmap\n",
    "    |\n",
    "    |-----> robot controller"
   ]
  },
  {
   "cell_type": "markdown",
   "metadata": {},
   "source": [
    "A successful launch will not produce any red lines in the terminal window. The four processes launched with this command are meant to sequentially localize the robot based on it's initial pose in the know map and keep track of the robot as it moves in the map. The route planners generate trajectories for the robot to travel from it's current location to the goal. Finally, the robot controller translates the plan into action."
   ]
  },
  {
   "cell_type": "code",
   "execution_count": null,
   "metadata": {
    "attributes": {
     "classes": [
      "console"
     ],
     "id": ""
    }
   },
   "outputs": [],
   "source": [
    "user@computer:$ roslaunch platform navigation.launch"
   ]
  },
  {
   "cell_type": "markdown",
   "metadata": {},
   "source": [
    "As with mapping, the F1/10 package contains an *rviz* configuration file that launches the visualization window with parameters necessary for navigation. You can bring up this window by entering the following command in a new terminal. Once the GUI is launched, you can use the 2D nav goal option and click on any point within the map to send a goal to the robot and observe the robot achieve its objectives."
   ]
  },
  {
   "cell_type": "code",
   "execution_count": null,
   "metadata": {
    "attributes": {
     "classes": [
      "console"
     ],
     "id": ""
    }
   },
   "outputs": [],
   "source": [
    "user@computer:$ roslaunch console navigation.launch"
   ]
  },
  {
   "cell_type": "markdown",
   "metadata": {},
   "source": [
    "## F1/10 Crew at Univerisity of Virginia\n",
    "Instructor:\\\n",
    "Dr. Madhur Behl\\\n",
    "Assistant Professor\\\n",
    "Computer Science | Systems and Information Engineering\\\n",
    "madhur.behl@virginia.edu\n",
    "\n",
    "Teaching Assistant:\\\n",
    "Varundev Suresh Babu\\\n",
    "PhD Candidate\\\n",
    "Computer Science\\\n",
    "varundev@virginia.edu\n",
    "\n",
    "### Acknowledgements\n",
    "\n",
    "We are grateful to our friends and colleagues at the MIT RACECAR project for creating the F1/10 car model for Gazebo, and the F1/10 community for sharing insights on mapping, localization, and TEB-planner."
   ]
  }
 ],
 "metadata": {},
 "nbformat": 4,
 "nbformat_minor": 2
}
